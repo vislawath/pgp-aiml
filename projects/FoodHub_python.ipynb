{
 "cells": [
  {
   "cell_type": "markdown",
   "metadata": {
    "id": "Gc8x8QimJY_H"
   },
   "source": [
    "# Project Python Foundations: FoodHub Data Analysis"
   ]
  },
  {
   "cell_type": "markdown",
   "metadata": {
    "id": "NqikjkWwJY_L"
   },
   "source": [
    "### Context\n",
    "\n",
    "The number of restaurants in New York is increasing day by day. Lots of students and busy professionals rely on those restaurants due to their hectic lifestyles. Online food delivery service is a great option for them. It provides them with good food from their favorite restaurants. A food aggregator company FoodHub offers access to multiple restaurants through a single smartphone app.\n",
    "\n",
    "The app allows the restaurants to receive a direct online order from a customer. The app assigns a delivery person from the company to pick up the order after it is confirmed by the restaurant. The delivery person then uses the map to reach the restaurant and waits for the food package. Once the food package is handed over to the delivery person, he/she confirms the pick-up in the app and travels to the customer's location to deliver the food. The delivery person confirms the drop-off in the app after delivering the food package to the customer. The customer can rate the order in the app. The food aggregator earns money by collecting a fixed margin of the delivery order from the restaurants.\n",
    "\n",
    "### Objective\n",
    "\n",
    "The food aggregator company has stored the data of the different orders made by the registered customers in their online portal. They want to analyze the data to get a fair idea about the demand of different restaurants which will help them in enhancing their customer experience. Suppose you are hired as a Data Scientist in this company and the Data Science team has shared some of the key questions that need to be answered. Perform the data analysis to find answers to these questions that will help the company to improve the business.\n",
    "\n",
    "### Data Description\n",
    "\n",
    "The data contains the different data related to a food order. The detailed data dictionary is given below.\n",
    "\n",
    "### Data Dictionary\n",
    "\n",
    "* order_id: Unique ID of the order\n",
    "* customer_id: ID of the customer who ordered the food\n",
    "* restaurant_name: Name of the restaurant\n",
    "* cuisine_type: Cuisine ordered by the customer\n",
    "* cost_of_the_order: Cost of the order\n",
    "* day_of_the_week: Indicates whether the order is placed on a weekday or weekend (The weekday is from Monday to Friday and the weekend is Saturday and Sunday)\n",
    "* rating: Rating given by the customer out of 5\n",
    "* food_preparation_time: Time (in minutes) taken by the restaurant to prepare the food. This is calculated by taking the difference between the timestamps of the restaurant's order confirmation and the delivery person's pick-up confirmation.\n",
    "* delivery_time: Time (in minutes) taken by the delivery person to deliver the food package. This is calculated by taking the difference between the timestamps of the delivery person's pick-up confirmation and drop-off information"
   ]
  },
  {
   "cell_type": "markdown",
   "metadata": {
    "id": "cEtNUxNAJY_M"
   },
   "source": [
    "### Let us start by importing the required libraries"
   ]
  },
  {
   "cell_type": "code",
   "execution_count": null,
   "metadata": {
    "id": "_aG-ZzhYXs_1"
   },
   "outputs": [],
   "source": [
    "# Installing the libraries with the specified version.\n",
    "!pip install numpy==1.25.2 pandas==1.5.3 matplotlib==3.7.1 seaborn==0.13.1 -q --user"
   ]
  },
  {
   "cell_type": "markdown",
   "metadata": {
    "id": "7ueES9WOzI5X"
   },
   "source": [
    "**Note**: *After running the above cell, kindly restart the notebook kernel and run all cells sequentially from the start again.*"
   ]
  },
  {
   "cell_type": "code",
   "execution_count": 1,
   "metadata": {
    "id": "u6PlpJAPJY_N"
   },
   "outputs": [],
   "source": [
    "# import libraries for data manipulation\n",
    "import numpy as np\n",
    "import pandas as pd\n",
    "\n",
    "# import libraries for data visualization\n",
    "import matplotlib.pyplot as plt\n",
    "import seaborn as sns"
   ]
  },
  {
   "cell_type": "markdown",
   "metadata": {
    "id": "AdracY0HJY_O"
   },
   "source": [
    "### Understanding the structure of the data"
   ]
  },
  {
   "cell_type": "code",
   "execution_count": 2,
   "metadata": {
    "colab": {
     "base_uri": "https://localhost:8080/"
    },
    "id": "WBh2ZGB9kFhU",
    "outputId": "80f91894-4fbe-42ae-9f28-9daa4439cd38"
   },
   "outputs": [
    {
     "name": "stdout",
     "output_type": "stream",
     "text": [
      "Mounted at /content/drive\n"
     ]
    }
   ],
   "source": [
    "# uncomment and run the following lines for Google Colab\n",
    "from google.colab import drive\n",
    "drive.mount('/content/drive')"
   ]
  },
  {
   "cell_type": "code",
   "execution_count": 3,
   "metadata": {
    "id": "GF01IZDbJY_O",
    "scrolled": true
   },
   "outputs": [],
   "source": [
    "# Write your code here to read the data\n",
    "# IMP NOTE foodhub_order.csv path must be set correctly in order to run this assignment\n",
    "# My foodhub order csv file is in my '/MyDrive/PGP-AIML/python/FoodHub/' folder\n",
    "workdir = '/content/drive/MyDrive/PGP-AIML/python/FoodHub/'\n",
    "df = pd.read_csv(workdir+\"foodhub_order.csv\")"
   ]
  },
  {
   "cell_type": "code",
   "execution_count": 4,
   "metadata": {
    "colab": {
     "base_uri": "https://localhost:8080/",
     "height": 206
    },
    "id": "v32Z7ZZQVYB3",
    "outputId": "05054836-fa85-4c96-ac35-49a556aa71b7"
   },
   "outputs": [
    {
     "data": {
      "application/vnd.google.colaboratory.intrinsic+json": {
       "summary": "{\n  \"name\": \"df\",\n  \"rows\": 1898,\n  \"fields\": [\n    {\n      \"column\": \"order_id\",\n      \"properties\": {\n        \"dtype\": \"number\",\n        \"std\": 548,\n        \"min\": 1476547,\n        \"max\": 1478444,\n        \"num_unique_values\": 1898,\n        \"samples\": [\n          1477722,\n          1478319,\n          1477650\n        ],\n        \"semantic_type\": \"\",\n        \"description\": \"\"\n      }\n    },\n    {\n      \"column\": \"customer_id\",\n      \"properties\": {\n        \"dtype\": \"number\",\n        \"std\": 113698,\n        \"min\": 1311,\n        \"max\": 405334,\n        \"num_unique_values\": 1200,\n        \"samples\": [\n          351329,\n          49987,\n          345899\n        ],\n        \"semantic_type\": \"\",\n        \"description\": \"\"\n      }\n    },\n    {\n      \"column\": \"restaurant_name\",\n      \"properties\": {\n        \"dtype\": \"category\",\n        \"num_unique_values\": 178,\n        \"samples\": [\n          \"Tortaria\",\n          \"Osteria Morini\",\n          \"Philippe Chow\"\n        ],\n        \"semantic_type\": \"\",\n        \"description\": \"\"\n      }\n    },\n    {\n      \"column\": \"cuisine_type\",\n      \"properties\": {\n        \"dtype\": \"category\",\n        \"num_unique_values\": 14,\n        \"samples\": [\n          \"Thai\",\n          \"French\",\n          \"Korean\"\n        ],\n        \"semantic_type\": \"\",\n        \"description\": \"\"\n      }\n    },\n    {\n      \"column\": \"cost_of_the_order\",\n      \"properties\": {\n        \"dtype\": \"number\",\n        \"std\": 7.483812110049553,\n        \"min\": 4.47,\n        \"max\": 35.41,\n        \"num_unique_values\": 312,\n        \"samples\": [\n          21.29,\n          7.18,\n          13.34\n        ],\n        \"semantic_type\": \"\",\n        \"description\": \"\"\n      }\n    },\n    {\n      \"column\": \"day_of_the_week\",\n      \"properties\": {\n        \"dtype\": \"category\",\n        \"num_unique_values\": 2,\n        \"samples\": [\n          \"Weekday\",\n          \"Weekend\"\n        ],\n        \"semantic_type\": \"\",\n        \"description\": \"\"\n      }\n    },\n    {\n      \"column\": \"rating\",\n      \"properties\": {\n        \"dtype\": \"category\",\n        \"num_unique_values\": 4,\n        \"samples\": [\n          \"5\",\n          \"4\"\n        ],\n        \"semantic_type\": \"\",\n        \"description\": \"\"\n      }\n    },\n    {\n      \"column\": \"food_preparation_time\",\n      \"properties\": {\n        \"dtype\": \"number\",\n        \"std\": 4,\n        \"min\": 20,\n        \"max\": 35,\n        \"num_unique_values\": 16,\n        \"samples\": [\n          25,\n          23\n        ],\n        \"semantic_type\": \"\",\n        \"description\": \"\"\n      }\n    },\n    {\n      \"column\": \"delivery_time\",\n      \"properties\": {\n        \"dtype\": \"number\",\n        \"std\": 4,\n        \"min\": 15,\n        \"max\": 33,\n        \"num_unique_values\": 19,\n        \"samples\": [\n          20,\n          21\n        ],\n        \"semantic_type\": \"\",\n        \"description\": \"\"\n      }\n    }\n  ]\n}",
       "type": "dataframe",
       "variable_name": "df"
      },
      "text/html": [
       "\n",
       "  <div id=\"df-6cfe2cb0-7a82-44bb-be46-9fc8f8a8f7a5\" class=\"colab-df-container\">\n",
       "    <div>\n",
       "<style scoped>\n",
       "    .dataframe tbody tr th:only-of-type {\n",
       "        vertical-align: middle;\n",
       "    }\n",
       "\n",
       "    .dataframe tbody tr th {\n",
       "        vertical-align: top;\n",
       "    }\n",
       "\n",
       "    .dataframe thead th {\n",
       "        text-align: right;\n",
       "    }\n",
       "</style>\n",
       "<table border=\"1\" class=\"dataframe\">\n",
       "  <thead>\n",
       "    <tr style=\"text-align: right;\">\n",
       "      <th></th>\n",
       "      <th>order_id</th>\n",
       "      <th>customer_id</th>\n",
       "      <th>restaurant_name</th>\n",
       "      <th>cuisine_type</th>\n",
       "      <th>cost_of_the_order</th>\n",
       "      <th>day_of_the_week</th>\n",
       "      <th>rating</th>\n",
       "      <th>food_preparation_time</th>\n",
       "      <th>delivery_time</th>\n",
       "    </tr>\n",
       "  </thead>\n",
       "  <tbody>\n",
       "    <tr>\n",
       "      <th>0</th>\n",
       "      <td>1477147</td>\n",
       "      <td>337525</td>\n",
       "      <td>Hangawi</td>\n",
       "      <td>Korean</td>\n",
       "      <td>30.75</td>\n",
       "      <td>Weekend</td>\n",
       "      <td>Not given</td>\n",
       "      <td>25</td>\n",
       "      <td>20</td>\n",
       "    </tr>\n",
       "    <tr>\n",
       "      <th>1</th>\n",
       "      <td>1477685</td>\n",
       "      <td>358141</td>\n",
       "      <td>Blue Ribbon Sushi Izakaya</td>\n",
       "      <td>Japanese</td>\n",
       "      <td>12.08</td>\n",
       "      <td>Weekend</td>\n",
       "      <td>Not given</td>\n",
       "      <td>25</td>\n",
       "      <td>23</td>\n",
       "    </tr>\n",
       "    <tr>\n",
       "      <th>2</th>\n",
       "      <td>1477070</td>\n",
       "      <td>66393</td>\n",
       "      <td>Cafe Habana</td>\n",
       "      <td>Mexican</td>\n",
       "      <td>12.23</td>\n",
       "      <td>Weekday</td>\n",
       "      <td>5</td>\n",
       "      <td>23</td>\n",
       "      <td>28</td>\n",
       "    </tr>\n",
       "    <tr>\n",
       "      <th>3</th>\n",
       "      <td>1477334</td>\n",
       "      <td>106968</td>\n",
       "      <td>Blue Ribbon Fried Chicken</td>\n",
       "      <td>American</td>\n",
       "      <td>29.20</td>\n",
       "      <td>Weekend</td>\n",
       "      <td>3</td>\n",
       "      <td>25</td>\n",
       "      <td>15</td>\n",
       "    </tr>\n",
       "    <tr>\n",
       "      <th>4</th>\n",
       "      <td>1478249</td>\n",
       "      <td>76942</td>\n",
       "      <td>Dirty Bird to Go</td>\n",
       "      <td>American</td>\n",
       "      <td>11.59</td>\n",
       "      <td>Weekday</td>\n",
       "      <td>4</td>\n",
       "      <td>25</td>\n",
       "      <td>24</td>\n",
       "    </tr>\n",
       "  </tbody>\n",
       "</table>\n",
       "</div>\n",
       "    <div class=\"colab-df-buttons\">\n",
       "\n",
       "  <div class=\"colab-df-container\">\n",
       "    <button class=\"colab-df-convert\" onclick=\"convertToInteractive('df-6cfe2cb0-7a82-44bb-be46-9fc8f8a8f7a5')\"\n",
       "            title=\"Convert this dataframe to an interactive table.\"\n",
       "            style=\"display:none;\">\n",
       "\n",
       "  <svg xmlns=\"http://www.w3.org/2000/svg\" height=\"24px\" viewBox=\"0 -960 960 960\">\n",
       "    <path d=\"M120-120v-720h720v720H120Zm60-500h600v-160H180v160Zm220 220h160v-160H400v160Zm0 220h160v-160H400v160ZM180-400h160v-160H180v160Zm440 0h160v-160H620v160ZM180-180h160v-160H180v160Zm440 0h160v-160H620v160Z\"/>\n",
       "  </svg>\n",
       "    </button>\n",
       "\n",
       "  <style>\n",
       "    .colab-df-container {\n",
       "      display:flex;\n",
       "      gap: 12px;\n",
       "    }\n",
       "\n",
       "    .colab-df-convert {\n",
       "      background-color: #E8F0FE;\n",
       "      border: none;\n",
       "      border-radius: 50%;\n",
       "      cursor: pointer;\n",
       "      display: none;\n",
       "      fill: #1967D2;\n",
       "      height: 32px;\n",
       "      padding: 0 0 0 0;\n",
       "      width: 32px;\n",
       "    }\n",
       "\n",
       "    .colab-df-convert:hover {\n",
       "      background-color: #E2EBFA;\n",
       "      box-shadow: 0px 1px 2px rgba(60, 64, 67, 0.3), 0px 1px 3px 1px rgba(60, 64, 67, 0.15);\n",
       "      fill: #174EA6;\n",
       "    }\n",
       "\n",
       "    .colab-df-buttons div {\n",
       "      margin-bottom: 4px;\n",
       "    }\n",
       "\n",
       "    [theme=dark] .colab-df-convert {\n",
       "      background-color: #3B4455;\n",
       "      fill: #D2E3FC;\n",
       "    }\n",
       "\n",
       "    [theme=dark] .colab-df-convert:hover {\n",
       "      background-color: #434B5C;\n",
       "      box-shadow: 0px 1px 3px 1px rgba(0, 0, 0, 0.15);\n",
       "      filter: drop-shadow(0px 1px 2px rgba(0, 0, 0, 0.3));\n",
       "      fill: #FFFFFF;\n",
       "    }\n",
       "  </style>\n",
       "\n",
       "    <script>\n",
       "      const buttonEl =\n",
       "        document.querySelector('#df-6cfe2cb0-7a82-44bb-be46-9fc8f8a8f7a5 button.colab-df-convert');\n",
       "      buttonEl.style.display =\n",
       "        google.colab.kernel.accessAllowed ? 'block' : 'none';\n",
       "\n",
       "      async function convertToInteractive(key) {\n",
       "        const element = document.querySelector('#df-6cfe2cb0-7a82-44bb-be46-9fc8f8a8f7a5');\n",
       "        const dataTable =\n",
       "          await google.colab.kernel.invokeFunction('convertToInteractive',\n",
       "                                                    [key], {});\n",
       "        if (!dataTable) return;\n",
       "\n",
       "        const docLinkHtml = 'Like what you see? Visit the ' +\n",
       "          '<a target=\"_blank\" href=https://colab.research.google.com/notebooks/data_table.ipynb>data table notebook</a>'\n",
       "          + ' to learn more about interactive tables.';\n",
       "        element.innerHTML = '';\n",
       "        dataTable['output_type'] = 'display_data';\n",
       "        await google.colab.output.renderOutput(dataTable, element);\n",
       "        const docLink = document.createElement('div');\n",
       "        docLink.innerHTML = docLinkHtml;\n",
       "        element.appendChild(docLink);\n",
       "      }\n",
       "    </script>\n",
       "  </div>\n",
       "\n",
       "\n",
       "<div id=\"df-f53dc54e-e247-4c03-ac59-837949b58ba0\">\n",
       "  <button class=\"colab-df-quickchart\" onclick=\"quickchart('df-f53dc54e-e247-4c03-ac59-837949b58ba0')\"\n",
       "            title=\"Suggest charts\"\n",
       "            style=\"display:none;\">\n",
       "\n",
       "<svg xmlns=\"http://www.w3.org/2000/svg\" height=\"24px\"viewBox=\"0 0 24 24\"\n",
       "     width=\"24px\">\n",
       "    <g>\n",
       "        <path d=\"M19 3H5c-1.1 0-2 .9-2 2v14c0 1.1.9 2 2 2h14c1.1 0 2-.9 2-2V5c0-1.1-.9-2-2-2zM9 17H7v-7h2v7zm4 0h-2V7h2v10zm4 0h-2v-4h2v4z\"/>\n",
       "    </g>\n",
       "</svg>\n",
       "  </button>\n",
       "\n",
       "<style>\n",
       "  .colab-df-quickchart {\n",
       "      --bg-color: #E8F0FE;\n",
       "      --fill-color: #1967D2;\n",
       "      --hover-bg-color: #E2EBFA;\n",
       "      --hover-fill-color: #174EA6;\n",
       "      --disabled-fill-color: #AAA;\n",
       "      --disabled-bg-color: #DDD;\n",
       "  }\n",
       "\n",
       "  [theme=dark] .colab-df-quickchart {\n",
       "      --bg-color: #3B4455;\n",
       "      --fill-color: #D2E3FC;\n",
       "      --hover-bg-color: #434B5C;\n",
       "      --hover-fill-color: #FFFFFF;\n",
       "      --disabled-bg-color: #3B4455;\n",
       "      --disabled-fill-color: #666;\n",
       "  }\n",
       "\n",
       "  .colab-df-quickchart {\n",
       "    background-color: var(--bg-color);\n",
       "    border: none;\n",
       "    border-radius: 50%;\n",
       "    cursor: pointer;\n",
       "    display: none;\n",
       "    fill: var(--fill-color);\n",
       "    height: 32px;\n",
       "    padding: 0;\n",
       "    width: 32px;\n",
       "  }\n",
       "\n",
       "  .colab-df-quickchart:hover {\n",
       "    background-color: var(--hover-bg-color);\n",
       "    box-shadow: 0 1px 2px rgba(60, 64, 67, 0.3), 0 1px 3px 1px rgba(60, 64, 67, 0.15);\n",
       "    fill: var(--button-hover-fill-color);\n",
       "  }\n",
       "\n",
       "  .colab-df-quickchart-complete:disabled,\n",
       "  .colab-df-quickchart-complete:disabled:hover {\n",
       "    background-color: var(--disabled-bg-color);\n",
       "    fill: var(--disabled-fill-color);\n",
       "    box-shadow: none;\n",
       "  }\n",
       "\n",
       "  .colab-df-spinner {\n",
       "    border: 2px solid var(--fill-color);\n",
       "    border-color: transparent;\n",
       "    border-bottom-color: var(--fill-color);\n",
       "    animation:\n",
       "      spin 1s steps(1) infinite;\n",
       "  }\n",
       "\n",
       "  @keyframes spin {\n",
       "    0% {\n",
       "      border-color: transparent;\n",
       "      border-bottom-color: var(--fill-color);\n",
       "      border-left-color: var(--fill-color);\n",
       "    }\n",
       "    20% {\n",
       "      border-color: transparent;\n",
       "      border-left-color: var(--fill-color);\n",
       "      border-top-color: var(--fill-color);\n",
       "    }\n",
       "    30% {\n",
       "      border-color: transparent;\n",
       "      border-left-color: var(--fill-color);\n",
       "      border-top-color: var(--fill-color);\n",
       "      border-right-color: var(--fill-color);\n",
       "    }\n",
       "    40% {\n",
       "      border-color: transparent;\n",
       "      border-right-color: var(--fill-color);\n",
       "      border-top-color: var(--fill-color);\n",
       "    }\n",
       "    60% {\n",
       "      border-color: transparent;\n",
       "      border-right-color: var(--fill-color);\n",
       "    }\n",
       "    80% {\n",
       "      border-color: transparent;\n",
       "      border-right-color: var(--fill-color);\n",
       "      border-bottom-color: var(--fill-color);\n",
       "    }\n",
       "    90% {\n",
       "      border-color: transparent;\n",
       "      border-bottom-color: var(--fill-color);\n",
       "    }\n",
       "  }\n",
       "</style>\n",
       "\n",
       "  <script>\n",
       "    async function quickchart(key) {\n",
       "      const quickchartButtonEl =\n",
       "        document.querySelector('#' + key + ' button');\n",
       "      quickchartButtonEl.disabled = true;  // To prevent multiple clicks.\n",
       "      quickchartButtonEl.classList.add('colab-df-spinner');\n",
       "      try {\n",
       "        const charts = await google.colab.kernel.invokeFunction(\n",
       "            'suggestCharts', [key], {});\n",
       "      } catch (error) {\n",
       "        console.error('Error during call to suggestCharts:', error);\n",
       "      }\n",
       "      quickchartButtonEl.classList.remove('colab-df-spinner');\n",
       "      quickchartButtonEl.classList.add('colab-df-quickchart-complete');\n",
       "    }\n",
       "    (() => {\n",
       "      let quickchartButtonEl =\n",
       "        document.querySelector('#df-f53dc54e-e247-4c03-ac59-837949b58ba0 button');\n",
       "      quickchartButtonEl.style.display =\n",
       "        google.colab.kernel.accessAllowed ? 'block' : 'none';\n",
       "    })();\n",
       "  </script>\n",
       "</div>\n",
       "\n",
       "    </div>\n",
       "  </div>\n"
      ],
      "text/plain": [
       "   order_id  customer_id            restaurant_name cuisine_type  \\\n",
       "0   1477147       337525                    Hangawi       Korean   \n",
       "1   1477685       358141  Blue Ribbon Sushi Izakaya     Japanese   \n",
       "2   1477070        66393                Cafe Habana      Mexican   \n",
       "3   1477334       106968  Blue Ribbon Fried Chicken     American   \n",
       "4   1478249        76942           Dirty Bird to Go     American   \n",
       "\n",
       "   cost_of_the_order day_of_the_week     rating  food_preparation_time  \\\n",
       "0              30.75         Weekend  Not given                     25   \n",
       "1              12.08         Weekend  Not given                     25   \n",
       "2              12.23         Weekday          5                     23   \n",
       "3              29.20         Weekend          3                     25   \n",
       "4              11.59         Weekday          4                     25   \n",
       "\n",
       "   delivery_time  \n",
       "0             20  \n",
       "1             23  \n",
       "2             28  \n",
       "3             15  \n",
       "4             24  "
      ]
     },
     "execution_count": 4,
     "metadata": {},
     "output_type": "execute_result"
    }
   ],
   "source": [
    "# Write your code here to view the first 5 rows\n",
    "# head function provides 5 rows by default. head() or head(5) provides first 5 rows\n",
    "df.head()"
   ]
  },
  {
   "cell_type": "markdown",
   "metadata": {
    "id": "c3kenV4vJY_Q"
   },
   "source": [
    "### **Question 1:** How many rows and columns are present in the data? [0.5 mark]"
   ]
  },
  {
   "cell_type": "code",
   "execution_count": 4,
   "metadata": {
    "colab": {
     "base_uri": "https://localhost:8080/"
    },
    "id": "Yvz5i-PhJY_Q",
    "outputId": "243ab6b2-b423-4efd-c45b-573f7c3d76c8"
   },
   "outputs": [
    {
     "data": {
      "text/plain": [
       "(1898, 9)"
      ]
     },
     "execution_count": 4,
     "metadata": {},
     "output_type": "execute_result"
    }
   ],
   "source": [
    "# Write your code here\n",
    "# DataFrame shape attribute provides number of rows and columns\n",
    "df.shape"
   ]
  },
  {
   "cell_type": "markdown",
   "metadata": {
    "id": "UsTNy3unJY_R"
   },
   "source": [
    "\n",
    "#### Observations:\n",
    "* There are `1898` rows and `9` columns in the Foodhub dataset."
   ]
  },
  {
   "cell_type": "markdown",
   "metadata": {
    "id": "jRXakVrUJY_R"
   },
   "source": [
    "### **Question 2:** What are the datatypes of the different columns in the dataset? (The info() function can be used) [0.5 mark]"
   ]
  },
  {
   "cell_type": "code",
   "execution_count": null,
   "metadata": {
    "colab": {
     "base_uri": "https://localhost:8080/"
    },
    "id": "Kp70Z0BNJY_R",
    "outputId": "2f544273-7810-4b88-9036-7c7cfcd12af2"
   },
   "outputs": [
    {
     "name": "stdout",
     "output_type": "stream",
     "text": [
      "<class 'pandas.core.frame.DataFrame'>\n",
      "RangeIndex: 1898 entries, 0 to 1897\n",
      "Data columns (total 9 columns):\n",
      " #   Column                 Non-Null Count  Dtype  \n",
      "---  ------                 --------------  -----  \n",
      " 0   order_id               1898 non-null   int64  \n",
      " 1   customer_id            1898 non-null   int64  \n",
      " 2   restaurant_name        1898 non-null   object \n",
      " 3   cuisine_type           1898 non-null   object \n",
      " 4   cost_of_the_order      1898 non-null   float64\n",
      " 5   day_of_the_week        1898 non-null   object \n",
      " 6   rating                 1898 non-null   object \n",
      " 7   food_preparation_time  1898 non-null   int64  \n",
      " 8   delivery_time          1898 non-null   int64  \n",
      "dtypes: float64(1), int64(4), object(4)\n",
      "memory usage: 133.6+ KB\n"
     ]
    }
   ],
   "source": [
    "# Write your code here\n",
    "# info function on the dataframe provides column names, how many non-null data rows, and data type for each column\n",
    "df.info()"
   ]
  },
  {
   "cell_type": "markdown",
   "metadata": {
    "id": "WJes5GP2JY_S"
   },
   "source": [
    "#### Observations:\n",
    "* There are `5` numerical data type columns in the data and `4` object type columns.\n",
    "* `rating` is read as object type column but it should be a numerical column.\n"
   ]
  },
  {
   "cell_type": "markdown",
   "metadata": {
    "id": "pF_92MN6JY_S"
   },
   "source": [
    "### **Question 3:** Are there any missing values in the data? If yes, treat them using an appropriate method. [1 mark]"
   ]
  },
  {
   "cell_type": "code",
   "execution_count": null,
   "metadata": {
    "colab": {
     "base_uri": "https://localhost:8080/",
     "height": 366
    },
    "id": "Zth-RR1PJY_S",
    "outputId": "07d4c260-10bd-4239-98b7-ba05f2a41c53"
   },
   "outputs": [
    {
     "data": {
      "text/html": [
       "<div>\n",
       "<style scoped>\n",
       "    .dataframe tbody tr th:only-of-type {\n",
       "        vertical-align: middle;\n",
       "    }\n",
       "\n",
       "    .dataframe tbody tr th {\n",
       "        vertical-align: top;\n",
       "    }\n",
       "\n",
       "    .dataframe thead th {\n",
       "        text-align: right;\n",
       "    }\n",
       "</style>\n",
       "<table border=\"1\" class=\"dataframe\">\n",
       "  <thead>\n",
       "    <tr style=\"text-align: right;\">\n",
       "      <th></th>\n",
       "      <th>0</th>\n",
       "    </tr>\n",
       "  </thead>\n",
       "  <tbody>\n",
       "    <tr>\n",
       "      <th>order_id</th>\n",
       "      <td>0</td>\n",
       "    </tr>\n",
       "    <tr>\n",
       "      <th>customer_id</th>\n",
       "      <td>0</td>\n",
       "    </tr>\n",
       "    <tr>\n",
       "      <th>restaurant_name</th>\n",
       "      <td>0</td>\n",
       "    </tr>\n",
       "    <tr>\n",
       "      <th>cuisine_type</th>\n",
       "      <td>0</td>\n",
       "    </tr>\n",
       "    <tr>\n",
       "      <th>cost_of_the_order</th>\n",
       "      <td>0</td>\n",
       "    </tr>\n",
       "    <tr>\n",
       "      <th>day_of_the_week</th>\n",
       "      <td>0</td>\n",
       "    </tr>\n",
       "    <tr>\n",
       "      <th>rating</th>\n",
       "      <td>0</td>\n",
       "    </tr>\n",
       "    <tr>\n",
       "      <th>food_preparation_time</th>\n",
       "      <td>0</td>\n",
       "    </tr>\n",
       "    <tr>\n",
       "      <th>delivery_time</th>\n",
       "      <td>0</td>\n",
       "    </tr>\n",
       "  </tbody>\n",
       "</table>\n",
       "</div><br><label><b>dtype:</b> int64</label>"
      ],
      "text/plain": [
       "order_id                 0\n",
       "customer_id              0\n",
       "restaurant_name          0\n",
       "cuisine_type             0\n",
       "cost_of_the_order        0\n",
       "day_of_the_week          0\n",
       "rating                   0\n",
       "food_preparation_time    0\n",
       "delivery_time            0\n",
       "dtype: int64"
      ]
     },
     "execution_count": 54,
     "metadata": {},
     "output_type": "execute_result"
    }
   ],
   "source": [
    "# Write your code here\n",
    "# Get column names that have null data and sum of each column\n",
    "df.isnull().sum()"
   ]
  },
  {
   "cell_type": "markdown",
   "metadata": {
    "id": "jDHT3vD1JY_S"
   },
   "source": [
    "#### Observations:\n",
    "* There are `NO` missing values in any of the columns.\n",
    "* Seems to have clean data for analysis."
   ]
  },
  {
   "cell_type": "markdown",
   "metadata": {
    "id": "MnJo7MWrJY_S"
   },
   "source": [
    "### **Question 4:** Check the statistical summary of the data. What is the minimum, average, and maximum time it takes for food to be prepared once an order is placed? [2 marks]"
   ]
  },
  {
   "cell_type": "code",
   "execution_count": null,
   "metadata": {
    "colab": {
     "base_uri": "https://localhost:8080/",
     "height": 335
    },
    "id": "WprQBgOSJY_T",
    "outputId": "f0b09dc7-ca37-43b6-e00c-d7f660fcd8ce"
   },
   "outputs": [
    {
     "data": {
      "text/html": [
       "<div>\n",
       "<style scoped>\n",
       "    .dataframe tbody tr th:only-of-type {\n",
       "        vertical-align: middle;\n",
       "    }\n",
       "\n",
       "    .dataframe tbody tr th {\n",
       "        vertical-align: top;\n",
       "    }\n",
       "\n",
       "    .dataframe thead th {\n",
       "        text-align: right;\n",
       "    }\n",
       "</style>\n",
       "<table border=\"1\" class=\"dataframe\">\n",
       "  <thead>\n",
       "    <tr style=\"text-align: right;\">\n",
       "      <th></th>\n",
       "      <th>food_preparation_time</th>\n",
       "    </tr>\n",
       "  </thead>\n",
       "  <tbody>\n",
       "    <tr>\n",
       "      <th>count</th>\n",
       "      <td>1898.000000</td>\n",
       "    </tr>\n",
       "    <tr>\n",
       "      <th>mean</th>\n",
       "      <td>27.371970</td>\n",
       "    </tr>\n",
       "    <tr>\n",
       "      <th>std</th>\n",
       "      <td>4.632481</td>\n",
       "    </tr>\n",
       "    <tr>\n",
       "      <th>min</th>\n",
       "      <td>20.000000</td>\n",
       "    </tr>\n",
       "    <tr>\n",
       "      <th>25%</th>\n",
       "      <td>23.000000</td>\n",
       "    </tr>\n",
       "    <tr>\n",
       "      <th>50%</th>\n",
       "      <td>27.000000</td>\n",
       "    </tr>\n",
       "    <tr>\n",
       "      <th>75%</th>\n",
       "      <td>31.000000</td>\n",
       "    </tr>\n",
       "    <tr>\n",
       "      <th>max</th>\n",
       "      <td>35.000000</td>\n",
       "    </tr>\n",
       "  </tbody>\n",
       "</table>\n",
       "</div><br><label><b>dtype:</b> float64</label>"
      ],
      "text/plain": [
       "count    1898.000000\n",
       "mean       27.371970\n",
       "std         4.632481\n",
       "min        20.000000\n",
       "25%        23.000000\n",
       "50%        27.000000\n",
       "75%        31.000000\n",
       "max        35.000000\n",
       "Name: food_preparation_time, dtype: float64"
      ]
     },
     "execution_count": 11,
     "metadata": {},
     "output_type": "execute_result"
    }
   ],
   "source": [
    "# Write your code here\n",
    "# describe function provides statistical summary for all the columns. For food_preparation_time column use folowing command\n",
    "df.describe()['food_preparation_time']"
   ]
  },
  {
   "cell_type": "markdown",
   "metadata": {
    "id": "9YbSOR5wJY_T"
   },
   "source": [
    "#### Observations:\n",
    "* Minimum time taken to prepare food once order placed is `20` minutes\n",
    "* Average time taken to prepare food once order placed is about `27.37` minutes\n",
    "* Maximum time taken to prepare food once order placed is `35` minutes"
   ]
  },
  {
   "cell_type": "markdown",
   "metadata": {
    "id": "cw3l58z_JY_T"
   },
   "source": [
    "### **Question 5:** How many orders are not rated? [1 mark]"
   ]
  },
  {
   "cell_type": "code",
   "execution_count": 5,
   "metadata": {
    "colab": {
     "base_uri": "https://localhost:8080/",
     "height": 259
    },
    "id": "hEzDUL9wgksi",
    "outputId": "b83f21df-ec69-4bde-cd8c-ffa6bc15e897"
   },
   "outputs": [
    {
     "name": "stdout",
     "output_type": "stream",
     "text": [
      "Total number of orders not rated  736\n"
     ]
    },
    {
     "data": {
      "text/html": [
       "<div>\n",
       "<style scoped>\n",
       "    .dataframe tbody tr th:only-of-type {\n",
       "        vertical-align: middle;\n",
       "    }\n",
       "\n",
       "    .dataframe tbody tr th {\n",
       "        vertical-align: top;\n",
       "    }\n",
       "\n",
       "    .dataframe thead th {\n",
       "        text-align: right;\n",
       "    }\n",
       "</style>\n",
       "<table border=\"1\" class=\"dataframe\">\n",
       "  <thead>\n",
       "    <tr style=\"text-align: right;\">\n",
       "      <th></th>\n",
       "      <th>count</th>\n",
       "    </tr>\n",
       "    <tr>\n",
       "      <th>rating</th>\n",
       "      <th></th>\n",
       "    </tr>\n",
       "  </thead>\n",
       "  <tbody>\n",
       "    <tr>\n",
       "      <th>Not given</th>\n",
       "      <td>736</td>\n",
       "    </tr>\n",
       "    <tr>\n",
       "      <th>5</th>\n",
       "      <td>588</td>\n",
       "    </tr>\n",
       "    <tr>\n",
       "      <th>4</th>\n",
       "      <td>386</td>\n",
       "    </tr>\n",
       "    <tr>\n",
       "      <th>3</th>\n",
       "      <td>188</td>\n",
       "    </tr>\n",
       "  </tbody>\n",
       "</table>\n",
       "</div><br><label><b>dtype:</b> int64</label>"
      ],
      "text/plain": [
       "rating\n",
       "Not given    736\n",
       "5            588\n",
       "4            386\n",
       "3            188\n",
       "Name: count, dtype: int64"
      ]
     },
     "execution_count": 5,
     "metadata": {},
     "output_type": "execute_result"
    }
   ],
   "source": [
    "# Write the code here\n",
    "# Get unrated order count with a rating filter to match not given value and take sum of each of rating.\n",
    "unrated_order_count = df[df['rating'] == 'Not given'].value_counts().sum()\n",
    "print('Total number of orders not rated ', unrated_order_count)\n",
    "# print the rating counts table\n",
    "df['rating'].value_counts()"
   ]
  },
  {
   "cell_type": "markdown",
   "metadata": {
    "id": "5E0O_oviJY_T"
   },
   "source": [
    "#### Observations:\n",
    "\n",
    "* There are `736` orders (about `39%` of total orders) that not not rated."
   ]
  },
  {
   "cell_type": "markdown",
   "metadata": {
    "id": "7msIfXE-JY_T"
   },
   "source": [
    "### Exploratory Data Analysis (EDA)"
   ]
  },
  {
   "cell_type": "markdown",
   "metadata": {
    "id": "-2xfI28YJY_T"
   },
   "source": [
    "### Univariate Analysis"
   ]
  },
  {
   "cell_type": "markdown",
   "metadata": {
    "id": "0RHZnugBJY_U"
   },
   "source": [
    "### **Question 6:** Explore all the variables and provide observations on their distributions. (Generally, histograms, boxplots, countplots, etc. are used for univariate exploration.) [9 marks]"
   ]
  },
  {
   "cell_type": "code",
   "execution_count": 9,
   "metadata": {
    "colab": {
     "base_uri": "https://localhost:8080/"
    },
    "id": "rU5ZqISjJY_U",
    "outputId": "107b882c-64ec-445b-afc1-821c858b3921"
   },
   "outputs": [
    {
     "name": "stdout",
     "output_type": "stream",
     "text": [
      "Total Number of orders  1898\n",
      "Total Number of customers ordered  1200\n",
      "Total Number of restaurants customer ordered  178\n",
      "Total Number of cuisine types customer ordered  14\n"
     ]
    }
   ],
   "source": [
    "# Write the code here\n",
    "# nunique function on dataframe provides count of unique values of a column\n",
    "print('Total Number of orders ', df['order_id'].nunique())\n",
    "print('Total Number of customers ordered ', df['customer_id'].nunique())\n",
    "print('Total Number of restaurants customer ordered ', df['restaurant_name'].nunique())\n",
    "print('Total Number of cuisine types customer ordered ', df['cuisine_type'].nunique())"
   ]
  },
  {
   "cell_type": "markdown",
   "metadata": {
    "id": "WWDrWspij7OI"
   },
   "source": [
    "# Observations:\n",
    "* Total Number of orders  `1898`\n",
    "* Total Number of customers ordered  `1200`\n",
    "* Total Number of restaurants customer ordered  `178`\n",
    "* Total Number of cuisine types customer ordered  `14`"
   ]
  },
  {
   "cell_type": "markdown",
   "metadata": {
    "id": "fgWSResnoVtS"
   },
   "source": [
    "# restaurant_name"
   ]
  },
  {
   "cell_type": "code",
   "execution_count": null,
   "metadata": {
    "colab": {
     "base_uri": "https://localhost:8080/"
    },
    "id": "NKVubyk-oczW",
    "outputId": "cf77a689-289b-4952-95da-0c38f42844fb"
   },
   "outputs": [
    {
     "name": "stdout",
     "output_type": "stream",
     "text": [
      "Unique restaurant name count  178\n"
     ]
    }
   ],
   "source": [
    "# print unique number of restaurant_name\n",
    "restaurant_name_count = df['restaurant_name'].nunique()\n",
    "print('Unique restaurant name count ', restaurant_name_count)\n"
   ]
  },
  {
   "cell_type": "markdown",
   "metadata": {
    "id": "6rZHoCZOkTET"
   },
   "source": [
    "# Observations:\n",
    "* Unique restaurant count  `178`"
   ]
  },
  {
   "cell_type": "markdown",
   "metadata": {
    "id": "3_P82mTfcC6w"
   },
   "source": [
    "### cuisine_type"
   ]
  },
  {
   "cell_type": "code",
   "execution_count": 6,
   "metadata": {
    "colab": {
     "base_uri": "https://localhost:8080/",
     "height": 869
    },
    "id": "4-L698b7cFYI",
    "outputId": "e10b1270-fbee-4228-f106-bcf5ced6a66e"
   },
   "outputs": [
    {
     "name": "stdout",
     "output_type": "stream",
     "text": [
      "Total Number of cuisine types  14 \n",
      "-------------------------------\n",
      "\n",
      "cuisine types value counts cuisine_type\n",
      "American          584\n",
      "Japanese          470\n",
      "Italian           298\n",
      "Chinese           215\n",
      "Mexican            77\n",
      "Indian             73\n",
      "Middle Eastern     49\n",
      "Mediterranean      46\n",
      "Thai               19\n",
      "French             18\n",
      "Southern           17\n",
      "Korean             13\n",
      "Spanish            12\n",
      "Vietnamese          7\n",
      "Name: count, dtype: int64 \n",
      "-------------------------------\n",
      "\n"
     ]
    },
    {
     "data": {
      "text/plain": [
       "<Axes: xlabel='cuisine_type', ylabel='count'>"
      ]
     },
     "execution_count": 6,
     "metadata": {},
     "output_type": "execute_result"
    },
    {
     "data": {
      "image/png": "[encoded data removed]",
      "text/plain": [
       "<Figure size 1500x500 with 1 Axes>"
      ]
     },
     "metadata": {},
     "output_type": "display_data"
    }
   ],
   "source": [
    "# defing cuisine type count and assign nunique value of cuisine_type\n",
    "cuisine_type_count = df['cuisine_type'].nunique()\n",
    "print('Total Number of cuisine types ', cuisine_type_count, \"\\n-------------------------------\\n\")\n",
    "# defing cuisine type value count dataframe with value counts for each.\n",
    "cuisine_type_value_count = df['cuisine_type'].value_counts()\n",
    "print('cuisine types value counts', cuisine_type_value_count, \"\\n-------------------------------\\n\")\n",
    "# plot cuisine_type using the datafram\n",
    "plt.figure(figsize = (15,5))\n",
    "sns.countplot(data = df, x = 'cuisine_type')"
   ]
  },
  {
   "cell_type": "markdown",
   "metadata": {
    "id": "1eEtiRdakea-"
   },
   "source": [
    "# Observations:\n",
    "* There are `14` unique cuisine types available for customers.\n",
    "* Of all orders, majority were in American, Japanese, Italian, and Chinese cuisine type in that order."
   ]
  },
  {
   "cell_type": "markdown",
   "metadata": {
    "id": "KWGnFdDpdZmZ"
   },
   "source": [
    "## cost_of_the_order"
   ]
  },
  {
   "cell_type": "code",
   "execution_count": null,
   "metadata": {
    "colab": {
     "base_uri": "https://localhost:8080/",
     "height": 506
    },
    "id": "8KO4jSzYdkHI",
    "outputId": "7ac00860-3663-414e-8b03-f31ff2ab8b05"
   },
   "outputs": [
    {
     "data": {
      "image/png": "[encoded data removed]",
      "text/plain": [
       "<Figure size 800x200 with 1 Axes>"
      ]
     },
     "metadata": {},
     "output_type": "display_data"
    },
    {
     "name": "stdout",
     "output_type": "stream",
     "text": [
      "\n",
      "-------------------------------\n",
      "\n"
     ]
    },
    {
     "data": {
      "image/png": "[encoded data removed]",
      "text/plain": [
       "<Figure size 800x200 with 1 Axes>"
      ]
     },
     "metadata": {},
     "output_type": "display_data"
    }
   ],
   "source": [
    "# Histogram for the cost of order\n",
    "plt.figure(figsize = (8,2))\n",
    "sns.histplot(data=df, x='cost_of_the_order')\n",
    "plt.show()\n",
    "print(\"\\n-------------------------------\\n\")\n",
    "# Boxplot for the cost of order\n",
    "plt.figure(figsize = (8,2))\n",
    "sns.boxplot(data=df, x='cost_of_the_order')\n",
    "plt.show()\n"
   ]
  },
  {
   "cell_type": "markdown",
   "metadata": {
    "id": "Qm-MDjYpl-gb"
   },
   "source": [
    "# Observations:\n",
    "* Minimum order cost is `$4.47`\n",
    "* Maximum order cost is `$35.41`\n",
    "* Average order cost is `$16.5`\n",
    "* `50%` of the orders have cost less than `$15`\n"
   ]
  },
  {
   "cell_type": "markdown",
   "metadata": {
    "id": "g_MPzJojqcze"
   },
   "source": [
    "# day_of_the_week"
   ]
  },
  {
   "cell_type": "code",
   "execution_count": 12,
   "metadata": {
    "colab": {
     "base_uri": "https://localhost:8080/",
     "height": 381
    },
    "id": "upO6eWfHqlu0",
    "outputId": "c17b713d-548c-463e-9c4a-d883ca271670"
   },
   "outputs": [
    {
     "name": "stdout",
     "output_type": "stream",
     "text": [
      "day_of_the_week\n",
      "Weekend    1351\n",
      "Weekday     547\n",
      "Name: count, dtype: int64 \n",
      "\n",
      "-------------------------------\n",
      "\n"
     ]
    },
    {
     "data": {
      "text/plain": [
       "<Axes: xlabel='day_of_the_week', ylabel='count'>"
      ]
     },
     "execution_count": 12,
     "metadata": {},
     "output_type": "execute_result"
    },
    {
     "data": {
      "image/png": "[encoded data removed]",
      "text/plain": [
       "<Figure size 400x200 with 1 Axes>"
      ]
     },
     "metadata": {},
     "output_type": "display_data"
    }
   ],
   "source": [
    "# create a dataframe for day_of_the_week with value counts for each\n",
    "day_of_the_week = df['day_of_the_week'].value_counts()\n",
    "print(day_of_the_week, \"\\n\\n-------------------------------\\n\")\n",
    "# draw count plot for day_of_the_week\n",
    "plt.figure(figsize = (4,2))\n",
    "sns.countplot(data = df, x = 'day_of_the_week')"
   ]
  },
  {
   "cell_type": "markdown",
   "metadata": {
    "id": "GxugMC6uamyq"
   },
   "source": [
    "# Observations\n",
    "* Weekend order count is `1351`, weekday order count is `547`.\n",
    "* Weekend orders more than `double` the weekday orders.\n",
    "* Customers prefer to order during weekends over weekdays."
   ]
  },
  {
   "cell_type": "markdown",
   "metadata": {
    "id": "gtzH0MJGfQWk"
   },
   "source": [
    "# rating"
   ]
  },
  {
   "cell_type": "code",
   "execution_count": null,
   "metadata": {
    "colab": {
     "base_uri": "https://localhost:8080/",
     "height": 399
    },
    "id": "KFZ9_eapfTxR",
    "outputId": "f347e3e9-5788-4133-86d6-5dcc353f013e"
   },
   "outputs": [
    {
     "name": "stdout",
     "output_type": "stream",
     "text": [
      "rating\n",
      "Not given    736\n",
      "5            588\n",
      "4            386\n",
      "3            188\n",
      "Name: count, dtype: int64 \n",
      "-------------------------------\n",
      "\n"
     ]
    },
    {
     "data": {
      "text/plain": [
       "<Axes: xlabel='rating', ylabel='count'>"
      ]
     },
     "execution_count": 8,
     "metadata": {},
     "output_type": "execute_result"
    },
    {
     "data": {
      "image/png": "[encoded data removed]",
      "text/plain": [
       "<Figure size 800x200 with 1 Axes>"
      ]
     },
     "metadata": {},
     "output_type": "display_data"
    }
   ],
   "source": [
    "# create a dataframe for ratings with value counts\n",
    "ratings = df['rating'].value_counts()\n",
    "print(ratings, \"\\n-------------------------------\\n\")\n",
    "# count plot for rating\n",
    "plt.figure(figsize = (8,2))\n",
    "sns.countplot(data = df, x = 'rating')\n"
   ]
  },
  {
   "cell_type": "markdown",
   "metadata": {
    "id": "GZELVmkwbxQj"
   },
   "source": [
    "# Observations\n",
    "* Customers left ratings for `1162` orders, about `61%`.\n",
    "* Customers have not rated `736` orders, about `39%`\n",
    "* Of all rated, customers gave `5 rating to 588 orders`, about `50% `of the rated orders."
   ]
  },
  {
   "cell_type": "markdown",
   "metadata": {
    "id": "3QhLZDxighvI"
   },
   "source": [
    "# food_preparation_time"
   ]
  },
  {
   "cell_type": "code",
   "execution_count": null,
   "metadata": {
    "colab": {
     "base_uri": "https://localhost:8080/",
     "height": 506
    },
    "id": "7AYfKzfcgnqS",
    "outputId": "b1dee505-9cc9-438a-c43e-6b771f86c3bc"
   },
   "outputs": [
    {
     "data": {
      "image/png": "[encoded data removed]",
      "text/plain": [
       "<Figure size 800x200 with 1 Axes>"
      ]
     },
     "metadata": {},
     "output_type": "display_data"
    },
    {
     "name": "stdout",
     "output_type": "stream",
     "text": [
      "\n",
      "-------------------------------\n",
      "\n"
     ]
    },
    {
     "data": {
      "image/png": "[encoded data removed]",
      "text/plain": [
       "<Figure size 800x200 with 1 Axes>"
      ]
     },
     "metadata": {},
     "output_type": "display_data"
    }
   ],
   "source": [
    "# histogram for the food_preparation_time\n",
    "plt.figure(figsize = (8,2))\n",
    "sns.histplot(data=df,x='food_preparation_time')\n",
    "plt.show()\n",
    "print(\"\\n-------------------------------\\n\")\n",
    "# boxplot for the food_preparation_time\n",
    "plt.figure(figsize = (8,2))\n",
    "sns.boxplot(data=df,x='food_preparation_time')\n",
    "plt.show()\n",
    "\n"
   ]
  },
  {
   "cell_type": "markdown",
   "metadata": {
    "id": "LEC0i3z2d0FO"
   },
   "source": [
    "# Observations:\n",
    "* Minimum food prep time `20` minutes.\n",
    "* Maximum food prep time `35` minutes.\n",
    "* Average food prep time is about `27` minutes.\n",
    "* `50%` of the orders prepared in `less than or equals to 27 minutes`."
   ]
  },
  {
   "cell_type": "markdown",
   "metadata": {
    "id": "7rRkzQilh4vW"
   },
   "source": [
    "# delivery_time"
   ]
  },
  {
   "cell_type": "code",
   "execution_count": null,
   "metadata": {
    "colab": {
     "base_uri": "https://localhost:8080/",
     "height": 506
    },
    "id": "DJ9ygvnah7-v",
    "outputId": "f215f624-71e1-4a7e-e8ab-5e8494bb7e99"
   },
   "outputs": [
    {
     "data": {
      "image/png": "[encoded data removed]",
      "text/plain": [
       "<Figure size 800x200 with 1 Axes>"
      ]
     },
     "metadata": {},
     "output_type": "display_data"
    },
    {
     "name": "stdout",
     "output_type": "stream",
     "text": [
      "\n",
      "-------------------------------\n",
      "\n"
     ]
    },
    {
     "data": {
      "image/png": "[encoded data removed]",
      "text/plain": [
       "<Figure size 800x200 with 1 Axes>"
      ]
     },
     "metadata": {},
     "output_type": "display_data"
    }
   ],
   "source": [
    "# histogram for the delivery_time\n",
    "plt.figure(figsize = (8,2))\n",
    "sns.histplot(data=df,x='delivery_time')\n",
    "plt.show()\n",
    "print(\"\\n-------------------------------\\n\")\n",
    "# boxplot for the delivery_time\n",
    "plt.figure(figsize = (8,2))\n",
    "sns.boxplot(data=df,x='delivery_time')\n",
    "plt.show()\n"
   ]
  },
  {
   "cell_type": "markdown",
   "metadata": {
    "id": "_pHxNI-TeiGQ"
   },
   "source": [
    "# Observations:\n",
    "* Minimum delivery time `15` minutes.\n",
    "* Maximum delivery time `33` minutes.\n",
    "* Average delivery time is about `25` minutes.\n",
    "* `50%` of the orders delivered in less than or equals to `25` minutes.\n",
    "* Based on histogram plot, there is high number of orders deliverd around `24 to 25` minute mark, and `28 to 29` minute mark.\n"
   ]
  },
  {
   "cell_type": "markdown",
   "metadata": {
    "id": "K9CqA5H_JY_U"
   },
   "source": [
    "### **Question 7**: Which are the top 5 restaurants in terms of the number of orders received? [1 mark]"
   ]
  },
  {
   "cell_type": "code",
   "execution_count": null,
   "metadata": {
    "colab": {
     "base_uri": "https://localhost:8080/",
     "height": 272
    },
    "id": "PaJZ3wlOJY_U",
    "outputId": "3b9b25df-92f7-40ea-caf3-db4d95e88c48"
   },
   "outputs": [
    {
     "data": {
      "text/html": [
       "<div>\n",
       "<style scoped>\n",
       "    .dataframe tbody tr th:only-of-type {\n",
       "        vertical-align: middle;\n",
       "    }\n",
       "\n",
       "    .dataframe tbody tr th {\n",
       "        vertical-align: top;\n",
       "    }\n",
       "\n",
       "    .dataframe thead th {\n",
       "        text-align: right;\n",
       "    }\n",
       "</style>\n",
       "<table border=\"1\" class=\"dataframe\">\n",
       "  <thead>\n",
       "    <tr style=\"text-align: right;\">\n",
       "      <th></th>\n",
       "      <th>count</th>\n",
       "    </tr>\n",
       "    <tr>\n",
       "      <th>restaurant_name</th>\n",
       "      <th></th>\n",
       "    </tr>\n",
       "  </thead>\n",
       "  <tbody>\n",
       "    <tr>\n",
       "      <th>Shake Shack</th>\n",
       "      <td>219</td>\n",
       "    </tr>\n",
       "    <tr>\n",
       "      <th>The Meatball Shop</th>\n",
       "      <td>132</td>\n",
       "    </tr>\n",
       "    <tr>\n",
       "      <th>Blue Ribbon Sushi</th>\n",
       "      <td>119</td>\n",
       "    </tr>\n",
       "    <tr>\n",
       "      <th>Blue Ribbon Fried Chicken</th>\n",
       "      <td>96</td>\n",
       "    </tr>\n",
       "    <tr>\n",
       "      <th>Parm</th>\n",
       "      <td>68</td>\n",
       "    </tr>\n",
       "  </tbody>\n",
       "</table>\n",
       "</div><br><label><b>dtype:</b> int64</label>"
      ],
      "text/plain": [
       "restaurant_name\n",
       "Shake Shack                  219\n",
       "The Meatball Shop            132\n",
       "Blue Ribbon Sushi            119\n",
       "Blue Ribbon Fried Chicken     96\n",
       "Parm                          68\n",
       "Name: count, dtype: int64"
      ]
     },
     "execution_count": 16,
     "metadata": {},
     "output_type": "execute_result"
    }
   ],
   "source": [
    "# Write the code here\n",
    "# Get dataframe of value counts by restaurant names and get top 5 of them\n",
    "df['restaurant_name'].value_counts().head()"
   ]
  },
  {
   "cell_type": "markdown",
   "metadata": {
    "id": "tnjhWgUfJY_U"
   },
   "source": [
    "#### Observations:\n",
    "* `Shake Shack, The Meatball Shop, Blue Ribbon Sushi, Blue Ribbon Fried Chicken \t, and Parm` are the top `5` restaurants in number of orders received.\n",
    "* Of the `top 5`, t`op 2` restaurants got `55%` of the total orders between the `top 5`."
   ]
  },
  {
   "cell_type": "markdown",
   "metadata": {
    "id": "gWPMqGq0JY_U"
   },
   "source": [
    "### **Question 8**: Which is the most popular cuisine on weekends? [1 mark]"
   ]
  },
  {
   "cell_type": "code",
   "execution_count": null,
   "metadata": {
    "colab": {
     "base_uri": "https://localhost:8080/",
     "height": 272
    },
    "id": "c-Xnus3VJY_U",
    "outputId": "9077db6a-c8d6-4f84-8703-51ab14e1e281"
   },
   "outputs": [
    {
     "data": {
      "text/html": [
       "<div>\n",
       "<style scoped>\n",
       "    .dataframe tbody tr th:only-of-type {\n",
       "        vertical-align: middle;\n",
       "    }\n",
       "\n",
       "    .dataframe tbody tr th {\n",
       "        vertical-align: top;\n",
       "    }\n",
       "\n",
       "    .dataframe thead th {\n",
       "        text-align: right;\n",
       "    }\n",
       "</style>\n",
       "<table border=\"1\" class=\"dataframe\">\n",
       "  <thead>\n",
       "    <tr style=\"text-align: right;\">\n",
       "      <th></th>\n",
       "      <th>count</th>\n",
       "    </tr>\n",
       "    <tr>\n",
       "      <th>cuisine_type</th>\n",
       "      <th></th>\n",
       "    </tr>\n",
       "  </thead>\n",
       "  <tbody>\n",
       "    <tr>\n",
       "      <th>American</th>\n",
       "      <td>415</td>\n",
       "    </tr>\n",
       "    <tr>\n",
       "      <th>Japanese</th>\n",
       "      <td>335</td>\n",
       "    </tr>\n",
       "    <tr>\n",
       "      <th>Italian</th>\n",
       "      <td>207</td>\n",
       "    </tr>\n",
       "    <tr>\n",
       "      <th>Chinese</th>\n",
       "      <td>163</td>\n",
       "    </tr>\n",
       "    <tr>\n",
       "      <th>Mexican</th>\n",
       "      <td>53</td>\n",
       "    </tr>\n",
       "  </tbody>\n",
       "</table>\n",
       "</div><br><label><b>dtype:</b> int64</label>"
      ],
      "text/plain": [
       "cuisine_type\n",
       "American    415\n",
       "Japanese    335\n",
       "Italian     207\n",
       "Chinese     163\n",
       "Mexican      53\n",
       "Name: count, dtype: int64"
      ]
     },
     "execution_count": 31,
     "metadata": {},
     "output_type": "execute_result"
    }
   ],
   "source": [
    "# Write the code here\n",
    "# create weekend dataframe where day_of_the_week is Weekend\n",
    "weekend_df = df[df['day_of_the_week'] == 'Weekend']\n",
    "# print top 5 cuisine types for the weekend\n",
    "weekend_df['cuisine_type'].value_counts().head(5)\n",
    "\n"
   ]
  },
  {
   "cell_type": "markdown",
   "metadata": {
    "id": "bpQ270TUJY_U"
   },
   "source": [
    "#### Observations:\n",
    "* `American` is the most popular cuisine on the weekends based on the customers orders.\n",
    "* `Japanese, Italian, Chinese, and Mexicun` are the next in higher order count after American."
   ]
  },
  {
   "cell_type": "markdown",
   "metadata": {
    "id": "88xgTqkxJY_U"
   },
   "source": [
    "### **Question 9**: What percentage of the orders cost more than 20 dollars? [2 marks]"
   ]
  },
  {
   "cell_type": "code",
   "execution_count": null,
   "metadata": {
    "colab": {
     "base_uri": "https://localhost:8080/"
    },
    "id": "OTpHyTdzJY_U",
    "outputId": "4db7b192-3420-4a43-9dd8-418744210998"
   },
   "outputs": [
    {
     "name": "stdout",
     "output_type": "stream",
     "text": [
      "(555, 9)\n",
      "(1898, 9)\n",
      "29.24\n"
     ]
    }
   ],
   "source": [
    "# Write the code here\n",
    "# create dataframe for the cost of the order greater than $20\n",
    "cost_df = df[df['cost_of_the_order']>20]\n",
    "print(cost_df.shape)\n",
    "print(df.shape)\n",
    "# calculate percentage of the order greater than $20 compared to total orders\n",
    "more_than_20_orders_percentage = (cost_df.shape[0] / df.shape[0]) * 100\n",
    "print(round(more_than_20_orders_percentage, 2))"
   ]
  },
  {
   "cell_type": "markdown",
   "metadata": {
    "id": "77KNAC5zJY_U"
   },
   "source": [
    "#### Observations:\n",
    "* Total customer orders `1898`, of which `555` orders cost more than `20` dollars.\n",
    "* Percentage of the orders cost more than `20` compared to total orders is `$29.24`"
   ]
  },
  {
   "cell_type": "markdown",
   "metadata": {
    "id": "HFyHn7hsJY_V"
   },
   "source": [
    "### **Question 10**: What is the mean order delivery time? [1 mark]"
   ]
  },
  {
   "cell_type": "code",
   "execution_count": null,
   "metadata": {
    "colab": {
     "base_uri": "https://localhost:8080/"
    },
    "id": "cyFL13hNJY_V",
    "outputId": "195ab695-98ef-457a-d8d6-21176ac9c446"
   },
   "outputs": [
    {
     "name": "stdout",
     "output_type": "stream",
     "text": [
      "Mean delivery time  24.16 minutes\n"
     ]
    }
   ],
   "source": [
    "# Write the code here\n",
    "# create dataframe with mean delivery time\n",
    "delivery_time_df = df['delivery_time'].mean()\n",
    "# print mean delivery time rounded to 2 decimals\n",
    "print('Mean delivery time ', round(delivery_time_df, 2), 'minutes')"
   ]
  },
  {
   "cell_type": "markdown",
   "metadata": {
    "id": "F35SRV-HJY_V"
   },
   "source": [
    "#### Observations:\n",
    "* Mean delivery time is `24.16` minutes"
   ]
  },
  {
   "cell_type": "markdown",
   "metadata": {
    "id": "48IjaOuDJY_V"
   },
   "source": [
    "### **Question 11:** The company has decided to give 20% discount vouchers to the top 3 most frequent customers. Find the IDs of these customers and the number of orders they placed. [1 mark]"
   ]
  },
  {
   "cell_type": "code",
   "execution_count": null,
   "metadata": {
    "colab": {
     "base_uri": "https://localhost:8080/"
    },
    "id": "Hz8-DE4Zge0j",
    "outputId": "bc3264c2-36f4-4089-c0da-9297cdb20379"
   },
   "outputs": [
    {
     "name": "stdout",
     "output_type": "stream",
     "text": [
      "customer_id\n",
      "52832    13\n",
      "47440    10\n",
      "83287     9\n",
      "Name: count, dtype: int64\n"
     ]
    }
   ],
   "source": [
    "# Write the code here\n",
    "# create a dataframe with top 3 customer id value counts\n",
    "customer_df = df['customer_id'].value_counts().head(3)\n",
    "#print the customer id and number of orders\n",
    "print(customer_df)"
   ]
  },
  {
   "cell_type": "markdown",
   "metadata": {
    "id": "9tWVwfX6JY_V"
   },
   "source": [
    "#### Observations:\n",
    "* Customer with ID `52832` ordered most, with `13` orders.\n",
    "* Customer IDs `52832, 47440, and 83287` are eligible for the `20%` discount based on the order count."
   ]
  },
  {
   "cell_type": "markdown",
   "metadata": {
    "id": "AfIc2jPaJY_V"
   },
   "source": [
    "### Multivariate Analysis"
   ]
  },
  {
   "cell_type": "markdown",
   "metadata": {
    "id": "iqiS0RT_JY_V"
   },
   "source": [
    "### **Question 12**: Perform a multivariate analysis to explore relationships between the important variables in the dataset. (It is a good idea to explore relations between numerical variables as well as relations between numerical and categorical variables) [10 marks]\n"
   ]
  },
  {
   "cell_type": "markdown",
   "metadata": {
    "id": "OqMx19Q3mt6z"
   },
   "source": [
    "# cuisine_type vs cost_of_the_order"
   ]
  },
  {
   "cell_type": "code",
   "execution_count": null,
   "metadata": {
    "colab": {
     "base_uri": "https://localhost:8080/",
     "height": 465
    },
    "id": "3qt4MCNTJY_V",
    "outputId": "1777729f-47f5-46b6-d4c5-16c9b779581c"
   },
   "outputs": [
    {
     "data": {
      "image/png": "[encoded data removed]",
      "text/plain": [
       "<Figure size 1500x500 with 1 Axes>"
      ]
     },
     "metadata": {},
     "output_type": "display_data"
    }
   ],
   "source": [
    "# Write the code here\n",
    "# create boxplot for all cuisine types with cost of the order, with cuisine type as hue\n",
    "plt.figure(figsize=(15,5))\n",
    "sns.boxplot(x=\"cuisine_type\", y=\"cost_of_the_order\", data=df, hue=\"cuisine_type\")\n",
    "plt.show()"
   ]
  },
  {
   "cell_type": "markdown",
   "metadata": {
    "id": "E9NLPWTcojqr"
   },
   "source": [
    "# Observations:\n",
    "* `Korean, Mediterranean, and Vietnamese` have few outliers.\n",
    "* Cost of the order is lower in `Korean and Vietnamese `cuisines compared to other cuisines.\n",
    "* Cost of the order is higher in `Thai and French cuisines` compared to other cuisines."
   ]
  },
  {
   "cell_type": "markdown",
   "metadata": {
    "id": "kT5cu4MBpVoY"
   },
   "source": [
    "# cuisine_type vs food_preparation_time"
   ]
  },
  {
   "cell_type": "code",
   "execution_count": null,
   "metadata": {
    "colab": {
     "base_uri": "https://localhost:8080/",
     "height": 465
    },
    "id": "dCTdlhvJpi-f",
    "outputId": "c0720c89-66aa-4bbf-9300-def9021fb75b"
   },
   "outputs": [
    {
     "data": {
      "image/png": "[encoded data removed]",
      "text/plain": [
       "<Figure size 1500x500 with 1 Axes>"
      ]
     },
     "metadata": {},
     "output_type": "display_data"
    }
   ],
   "source": [
    "# create boxplot for cuisine type with food preparation time, with hue cuisine type.\n",
    "plt.figure(figsize=(15,5))\n",
    "sns.boxplot(x=\"cuisine_type\", y=\"food_preparation_time\", data=df, hue=\"cuisine_type\")\n",
    "plt.show()"
   ]
  },
  {
   "cell_type": "markdown",
   "metadata": {
    "id": "cHxdSTomp96x"
   },
   "source": [
    "# Observations:\n",
    "* `Korean` cuisine type has few outliers.\n",
    "* Food preparation time is `lower` in `Korean and Vietnamese cuisines` compared to other cuisines.\n",
    "* Food preparation time is `higher` in Thai and Italian cuisines compared to other cuisines."
   ]
  },
  {
   "cell_type": "markdown",
   "metadata": {
    "id": "aB3zslSDqg29"
   },
   "source": [
    "# day_of_the_week vs delivery_time"
   ]
  },
  {
   "cell_type": "code",
   "execution_count": null,
   "metadata": {
    "colab": {
     "base_uri": "https://localhost:8080/",
     "height": 388
    },
    "id": "g7zfzohJqmii",
    "outputId": "0c4c5659-37a0-4e9a-e3a1-54ce74f7f789"
   },
   "outputs": [
    {
     "data": {
      "image/png": "[encoded data removed]",
      "text/plain": [
       "<Figure size 800x400 with 1 Axes>"
      ]
     },
     "metadata": {},
     "output_type": "display_data"
    }
   ],
   "source": [
    "#create boxplot for delivery time based on day_of_the_week, with hue day_of_the_week\n",
    "plt.figure(figsize=(8,4))\n",
    "sns.boxplot(x=\"day_of_the_week\", y=\"delivery_time\", data=df, hue=\"day_of_the_week\")\n",
    "plt.show()"
   ]
  },
  {
   "cell_type": "markdown",
   "metadata": {
    "id": "SvKSSA5_rF-Q"
   },
   "source": [
    "# Observations:\n",
    "* `Delivery time` is `lower` in the `weekend` compared to weekday.\n",
    "* `Delivery time` on `weekday` is about `5 minutes higher` than `weekend`."
   ]
  },
  {
   "cell_type": "markdown",
   "metadata": {
    "id": "a-0dUpFVrhKp"
   },
   "source": [
    "# rating vs delivery_time"
   ]
  },
  {
   "cell_type": "code",
   "execution_count": null,
   "metadata": {
    "colab": {
     "base_uri": "https://localhost:8080/",
     "height": 388
    },
    "id": "UIy-ZhHKr9k1",
    "outputId": "346938da-aa65-4e21-e79f-a5fd834d0cbb"
   },
   "outputs": [
    {
     "data": {
      "image/png": "[encoded data removed]",
      "text/plain": [
       "<Figure size 800x400 with 1 Axes>"
      ]
     },
     "metadata": {},
     "output_type": "display_data"
    }
   ],
   "source": [
    "# create boxplot for rating vs delivery time, with hue rating\n",
    "plt.figure(figsize=(8,4))\n",
    "sns.boxplot(x=\"rating\", y=\"delivery_time\", data=df, hue=\"rating\")\n",
    "plt.show()"
   ]
  },
  {
   "cell_type": "markdown",
   "metadata": {
    "id": "weWESenJsQZx"
   },
   "source": [
    "# Observations:\n",
    "* No outliers found for all ratings.\n",
    "* Delivery time does not seem to affect ratings given. Though, customers given a rating of 4 for lower delivery times.\n",
    "* Customers have not given rating for delivery time similar to that of rating 3 and 5. There is not much of a correlation here.\n"
   ]
  },
  {
   "cell_type": "markdown",
   "metadata": {
    "id": "OLIO0bfYtWCP"
   },
   "source": [
    "# rating vs food_preparation_time"
   ]
  },
  {
   "cell_type": "code",
   "execution_count": null,
   "metadata": {
    "colab": {
     "base_uri": "https://localhost:8080/",
     "height": 388
    },
    "id": "F4XuE23JtdAY",
    "outputId": "93564185-d87d-4920-a9ce-3ab2761f0238"
   },
   "outputs": [
    {
     "data": {
      "image/png": "[encoded data removed]",
      "text/plain": [
       "<Figure size 800x400 with 1 Axes>"
      ]
     },
     "metadata": {},
     "output_type": "display_data"
    }
   ],
   "source": [
    "# create boxplot between rating vs food processing time, with as rating.\n",
    "plt.figure(figsize=(8,4))\n",
    "sns.boxplot(x=\"rating\", y=\"food_preparation_time\", data=df, hue=\"rating\")\n",
    "plt.show()"
   ]
  },
  {
   "cell_type": "markdown",
   "metadata": {
    "id": "dDFF9Y15t5bG"
   },
   "source": [
    "# Observations:\n",
    "* No outliers found for food prep time.\n",
    "* Food prep time does not seem to affect much in the ratings given.\n",
    "* Customers gave rating 3 and 4 for the similar prep time. Not much correlation there.\n",
    "* Customers have given rating 5 even though food prep time is little high. Probably due to satisfaction with quality and/ or type of restaurant.\n",
    "* Customers also not given rating even when prep time is less than that of rated ones.\n",
    "* 50% of the rated and non-rated orders have food prep time under 28 minutes.\n"
   ]
  },
  {
   "cell_type": "markdown",
   "metadata": {
    "id": "OCotsjdKvLSw"
   },
   "source": [
    "# rating vs cost_of_the_order"
   ]
  },
  {
   "cell_type": "code",
   "execution_count": null,
   "metadata": {
    "colab": {
     "base_uri": "https://localhost:8080/",
     "height": 388
    },
    "id": "1Jxz2o69vRaF",
    "outputId": "c619be5a-b89b-4a0e-a294-f35999b76665"
   },
   "outputs": [
    {
     "data": {
      "image/png": "[encoded data removed]",
      "text/plain": [
       "<Figure size 800x400 with 1 Axes>"
      ]
     },
     "metadata": {},
     "output_type": "display_data"
    }
   ],
   "source": [
    "# create boxplot for rating vs cost_of_the_order, with hue rating.\n",
    "plt.figure(figsize=(8,4))\n",
    "sns.boxplot(x=\"rating\", y=\"cost_of_the_order\", data=df, hue=\"rating\")\n",
    "plt.show()"
   ]
  },
  {
   "cell_type": "markdown",
   "metadata": {
    "id": "mxdpTO86vcKX"
   },
   "source": [
    "# Observations:\n",
    "* No outliers found for the cost of the orders with rating.\n",
    "* 50% of the rated and non-rated orders have cost under or equal to 15 dollars.\n",
    "* Despite higher cost, customers have rated 5 for some of the orders.\n",
    "* Rating does not seem to highly co-relate with the cost of the order.\n"
   ]
  },
  {
   "cell_type": "markdown",
   "metadata": {
    "id": "Y5hAt3lLw_1q"
   },
   "source": [
    "# heatmap correlation cost_of_the_order, food_preparation_time, and delivery_time"
   ]
  },
  {
   "cell_type": "code",
   "execution_count": null,
   "metadata": {
    "colab": {
     "base_uri": "https://localhost:8080/",
     "height": 605
    },
    "id": "9pdNt-gwxXxI",
    "outputId": "750316a7-d8f9-48d1-8277-554fd096d1b5"
   },
   "outputs": [
    {
     "data": {
      "image/png": "[encoded data removed]",
      "text/plain": [
       "<Figure size 1500x700 with 2 Axes>"
      ]
     },
     "metadata": {},
     "output_type": "display_data"
    }
   ],
   "source": [
    "# create a column list for 'cost_of_the_order', 'food_preparation_time', 'delivery_time' for correlation matrix.\n",
    "col_list = ['cost_of_the_order', 'food_preparation_time', 'delivery_time']\n",
    "# plot the correlation\n",
    "plt.figure(figsize=(15, 7))\n",
    "sns.heatmap(df[col_list].corr(), annot=True, vmin=-1, vmax=1, fmt=\".2f\", cmap=\"Spectral\")\n",
    "plt.show()"
   ]
  },
  {
   "cell_type": "markdown",
   "metadata": {
    "id": "81JWiydOyT8k"
   },
   "source": [
    "# Observations:\n",
    "* There is a `very small positive correlation` between food preparation time and cost of the order but it is not significant.\n",
    "* There is a `not much correlation` between delivery time and food prep time.\n",
    "* There is a `very small negative correlation` between delivery time and cost of the order but is not significant."
   ]
  },
  {
   "cell_type": "markdown",
   "metadata": {
    "id": "YLkMf09YJY_V"
   },
   "source": [
    "### **Question 13:** The company wants to provide a promotional offer in the advertisement of the restaurants. The condition to get the offer is that the restaurants must have a rating count of more than 50 and the average rating should be greater than 4. Find the restaurants fulfilling the criteria to get the promotional offer. [3 marks]"
   ]
  },
  {
   "cell_type": "code",
   "execution_count": null,
   "metadata": {
    "colab": {
     "base_uri": "https://localhost:8080/"
    },
    "id": "0M_QDvbYJY_V",
    "outputId": "a8256224-914c-4739-9ebe-e51114d502a1"
   },
   "outputs": [
    {
     "name": "stdout",
     "output_type": "stream",
     "text": [
      "restaurant_name\n",
      "Shake Shack                  133\n",
      "The Meatball Shop             84\n",
      "Blue Ribbon Sushi             73\n",
      "Blue Ribbon Fried Chicken     64\n",
      "Name: rating, dtype: int64 \n",
      "\n",
      "             restaurant_name  rating\n",
      "0          The Meatball Shop    4.51\n",
      "1                Shake Shack    4.28\n",
      "2          Blue Ribbon Sushi    4.22\n",
      "3  Blue Ribbon Fried Chicken    4.33\n"
     ]
    }
   ],
   "source": [
    "# Write the code here\n",
    "# create a dataframe numerica rated orders only.\n",
    "ratings_only_df = df[df['rating'] != 'Not given'].copy()\n",
    "\n",
    "# rating is defined as object type, change it to int to perform actions on it\n",
    "ratings_only_df['rating'] = ratings_only_df['rating'].astype('int')\n",
    "# create dataframe with group by restaurant name with rating count for each restaurant, order the data by rating count descending values\n",
    "ratings_only_count_df = ratings_only_df.groupby(['restaurant_name'])['rating'].count().sort_values(ascending = False)\n",
    "# create a new dataframe with ratings count > 50\n",
    "ratings_only_count_df = ratings_only_count_df[ratings_only_count_df > 50]\n",
    "print(ratings_only_count_df, \"\\n\")\n",
    "\n",
    "res_df = ratings_only_df[ratings_only_df['restaurant_name'].isin(ratings_only_count_df.index.tolist())].copy()\n",
    "# create dataframe with mean values for data grouped by restaurant name and rating, order by descending count, drop NaN values, and rest index\n",
    "mean_df = res_df.groupby(['restaurant_name'])['rating'].mean().sort_values(ascending = False).reset_index().dropna()\n",
    "print(mean_df, \"\\n\")\n",
    "# create a new dataframe with mean greater than 4\n",
    "mean_greater_than_4_df = round(mean_df[mean_df['rating'] > 4].sort_values(by='restaurant_name', ascending=False).reset_index(drop=True), 2)\n",
    "print(mean_greater_than_4_df)\n"
   ]
  },
  {
   "cell_type": "markdown",
   "metadata": {
    "id": "10uryUMhJY_V"
   },
   "source": [
    "#### Observations:\n",
    "* There are `1162` orders rated by customers\n",
    "* There are `4` restaurants that have more than `50` ratings. `Shake Shack` leading with `133` ratings count.\n",
    "* `The Meatball Shop` restaurant has the highest mean rating of `4.51` where as `Blue Ribbon Sushi` restaurant has the lowest among the four with mean value `4.22`"
   ]
  },
  {
   "cell_type": "markdown",
   "metadata": {
    "id": "1gvWBkRUJY_V"
   },
   "source": [
    "### **Question 14:** The company charges the restaurant 25% on the orders having cost greater than 20 dollars and 15% on the orders having cost greater than 5 dollars. Find the net revenue generated by the company across all orders. [3 marks]"
   ]
  },
  {
   "cell_type": "code",
   "execution_count": 5,
   "metadata": {
    "colab": {
     "base_uri": "https://localhost:8080/"
    },
    "id": "rEjbnTNEJY_W",
    "outputId": "5ff1ac2a-3d97-4fa4-c8b3-19382a369754"
   },
   "outputs": [
    {
     "name": "stdout",
     "output_type": "stream",
     "text": [
      "orderCountFor20Plus 555\n",
      "orderCountFor5Plus 1334\n",
      "orderCountFor5Below 9\n",
      "The net revenue is  6166.3 dollars\n"
     ]
    }
   ],
   "source": [
    "# Write the code here\n",
    "\n",
    "# Define three variables to track counts of orders with cost 20 above, between 5 to 20, and below 5\n",
    "orderCountFor20Plus = 0\n",
    "orderCountFor5Plus = 0\n",
    "orderCountFor5Below = 0\n",
    "\n",
    "# Define a function to increment counts\n",
    "def calculate_revenue(cost):\n",
    "    # define the variables as global\n",
    "    global orderCountFor20Plus\n",
    "    global orderCountFor5Plus\n",
    "    global orderCountFor5Below\n",
    "    if cost > 20:\n",
    "        orderCountFor20Plus += 1\n",
    "        return 0.25 * cost\n",
    "    elif cost > 5:\n",
    "        orderCountFor5Plus += 1\n",
    "        return 0.15 * cost\n",
    "    else:\n",
    "        orderCountFor5Below += 1\n",
    "        return 0\n",
    "\n",
    "\n",
    "# create a revenue column on the dataframe, apply the function to each cost of the order\n",
    "df['revenue'] = df['cost_of_the_order'].apply(calculate_revenue)\n",
    "print('orderCountFor20Plus', orderCountFor20Plus)\n",
    "print('orderCountFor5Plus', orderCountFor5Plus)\n",
    "print('orderCountFor5Below', orderCountFor5Below)\n",
    "# Find the sum of all revenue\n",
    "net_revenue = df['revenue'].sum()\n",
    "print('The net revenue is ', round(net_revenue, 2), 'dollars')\n"
   ]
  },
  {
   "cell_type": "markdown",
   "metadata": {
    "id": "XHCEJgH0JY_W"
   },
   "source": [
    "#### Observations:\n",
    "* There are 555 orders with cost over `$20`\n",
    "* There are 1334 orders with cost between `$5` and `$20`\n",
    "* There are 9 orders with cost less than `$5`\n",
    "* Net revenue from the orders is `$6166.30`"
   ]
  },
  {
   "cell_type": "markdown",
   "metadata": {
    "id": "pRlVW-oeJY_W"
   },
   "source": [
    "### **Question 15:** The company wants to analyze the total time required to deliver the food. What percentage of orders take more than 60 minutes to get delivered from the time the order is placed? (The food has to be prepared and then delivered.) [2 marks]"
   ]
  },
  {
   "cell_type": "code",
   "execution_count": null,
   "metadata": {
    "colab": {
     "base_uri": "https://localhost:8080/"
    },
    "id": "zxoTrxfLJY_W",
    "outputId": "7db88b43-593b-49cb-bffc-bed11ca199d2"
   },
   "outputs": [
    {
     "name": "stdout",
     "output_type": "stream",
     "text": [
      "(1898,)\n",
      "(200,)\n",
      "Percentage of orders took more than 60 minutes from order to delivery 10.54 %\n"
     ]
    }
   ],
   "source": [
    "# Write the code here\n",
    "# define a new column for food order to delivery time\n",
    "df['food_order_to_delivery_time'] = df['food_preparation_time'] + df['delivery_time']\n",
    "food_order_to_delivery_time_df = df['food_order_to_delivery_time']\n",
    "# create dataframe to with food order delivery time greater than 60 minutes\n",
    "food_order_to_delivery_time_more_than_60_df = food_order_to_delivery_time_df[food_order_to_delivery_time_df > 60]\n",
    "food_order_to_delivery_time_more_than_60_df\n",
    "\n",
    "# determine percentage of order count where order to delivery time  > 60 minutes to the total number of orders\n",
    "percentage = (food_order_to_delivery_time_more_than_60_df.shape[0] / df.shape[0]) * 100\n",
    "\n",
    "print(\"Percentage of orders took more than 60 minutes from order to delivery\", round(percentage, 2), '%')\n"
   ]
  },
  {
   "cell_type": "markdown",
   "metadata": {
    "id": "iqzBXn2yJY_W"
   },
   "source": [
    "#### Observations:\n",
    "* There are `200` orders out of `1898` have order to delivery time more than `60 minutes.`\n",
    "* Percentage of the orders took more than `60` minutes from order to delivery `10.54 %`"
   ]
  },
  {
   "cell_type": "markdown",
   "metadata": {
    "id": "bUd6cYpPJY_W"
   },
   "source": [
    "### **Question 16:** The company wants to analyze the delivery time of the orders on weekdays and weekends. How does the mean delivery time vary during weekdays and weekends? [2 marks]"
   ]
  },
  {
   "cell_type": "code",
   "execution_count": 6,
   "metadata": {
    "colab": {
     "base_uri": "https://localhost:8080/",
     "height": 309
    },
    "id": "pIU5xZZ6JY_W",
    "outputId": "646f04fb-9123-466d-e7cf-c85be70a892a"
   },
   "outputs": [
    {
     "name": "stdout",
     "output_type": "stream",
     "text": [
      "Mean delivery time on weekdays is 28 minutes\n",
      "Mean delivery time on weekends is 22 minutes\n"
     ]
    },
    {
     "data": {
      "text/html": [
       "<div>\n",
       "<style scoped>\n",
       "    .dataframe tbody tr th:only-of-type {\n",
       "        vertical-align: middle;\n",
       "    }\n",
       "\n",
       "    .dataframe tbody tr th {\n",
       "        vertical-align: top;\n",
       "    }\n",
       "\n",
       "    .dataframe thead th {\n",
       "        text-align: right;\n",
       "    }\n",
       "</style>\n",
       "<table border=\"1\" class=\"dataframe\">\n",
       "  <thead>\n",
       "    <tr style=\"text-align: right;\">\n",
       "      <th></th>\n",
       "      <th>count</th>\n",
       "    </tr>\n",
       "    <tr>\n",
       "      <th>restaurant_name</th>\n",
       "      <th></th>\n",
       "    </tr>\n",
       "  </thead>\n",
       "  <tbody>\n",
       "    <tr>\n",
       "      <th>Shake Shack</th>\n",
       "      <td>145</td>\n",
       "    </tr>\n",
       "    <tr>\n",
       "      <th>The Meatball Shop</th>\n",
       "      <td>95</td>\n",
       "    </tr>\n",
       "    <tr>\n",
       "      <th>Blue Ribbon Sushi</th>\n",
       "      <td>85</td>\n",
       "    </tr>\n",
       "    <tr>\n",
       "      <th>Blue Ribbon Fried Chicken</th>\n",
       "      <td>74</td>\n",
       "    </tr>\n",
       "    <tr>\n",
       "      <th>RedFarm Broadway</th>\n",
       "      <td>44</td>\n",
       "    </tr>\n",
       "  </tbody>\n",
       "</table>\n",
       "</div><br><label><b>dtype:</b> int64</label>"
      ],
      "text/plain": [
       "restaurant_name\n",
       "Shake Shack                  145\n",
       "The Meatball Shop             95\n",
       "Blue Ribbon Sushi             85\n",
       "Blue Ribbon Fried Chicken     74\n",
       "RedFarm Broadway              44\n",
       "Name: count, dtype: int64"
      ]
     },
     "execution_count": 6,
     "metadata": {},
     "output_type": "execute_result"
    }
   ],
   "source": [
    "# Write the code here\n",
    "# define weekday dataframe from original dataset\n",
    "weekday_df = df[df['day_of_the_week'] == 'Weekday']\n",
    "print('Mean delivery time on weekdays is', round(weekday_df['delivery_time'].mean()), 'minutes')\n",
    "# define weekend dataframe from original dataset\n",
    "weekend_df = df[df['day_of_the_week'] == 'Weekend']\n",
    "print('Mean delivery time on weekends is', round(weekend_df['delivery_time'].mean()), 'minutes')\n",
    "# print value counts of the top 5 restaurants\n",
    "weekend_df['restaurant_name'].value_counts().head()"
   ]
  },
  {
   "cell_type": "markdown",
   "metadata": {
    "id": "8H-ODxbVJY_W"
   },
   "source": [
    "#### Observations:\n",
    "* Mean delivery time on weekdays is `28` minutes\n",
    "* Mean delivery time on weekends is `22` minutes"
   ]
  },
  {
   "cell_type": "markdown",
   "metadata": {
    "id": "17roJywaJY_W"
   },
   "source": [
    "### Conclusion and Recommendations"
   ]
  },
  {
   "cell_type": "markdown",
   "metadata": {
    "id": "ZdX2Wz4FJY_W"
   },
   "source": [
    "### **Question 17:** What are your conclusions from the analysis? What recommendations would you like to share to help improve the business? (You can use cuisine type and feedback ratings to drive your business recommendations.) [6 marks]"
   ]
  },
  {
   "cell_type": "markdown",
   "metadata": {
    "id": "VTugVsL4Ddz-"
   },
   "source": [
    "### Conclusions:\n",
    "* The FoodHub data provided did not have any missing columns data.\n",
    "* There are `1200` unique customers placed `1898` orders in total from `178` restaurants.\n",
    "* Restaurants categorized into `14` cuisine types.\n",
    "* Majority of the orders were made in `American`, `Japanese`, `Italian`, and `Chinese` restaurants.\n",
    "* Food preparation time ranges between `20` minute to `35` minutes. `50%` of the orders prepared in about `27` minutes or less.\n",
    "* Food delivery time ranges between `15` minutes to `33` minutes. `50%` of the orders delivered in about `25` minutes or less.\n",
    "* Weekday delivery times are few minutes higher than weekend. It is expected that weekday traffic usually higher during weekdays.\n",
    "* About `10% `of the orders took more than 60 minutes from `order to delivery.` This may be due to popular restaurants usually are very busy and some delays can be expected.\n",
    "* Customers left ratings for `1162` orders (`61% `of the total orders). There are `736` orders (about `39%` of total orders) that not not rated.\n",
    "* Of the rated orders, customers left minimum rating of 3 for all of them indicating they feel good about the food.\n",
    "* Of the rated orders, customers left minimum rating of `5` for `50%` of them indicating they really loved the food and the restaurant.\n",
    "* Food cost ranges from `$4.47` to `$35.41`. Customers paid less than `$15` for `50%` of the total orders.\n",
    "* Order count on `weekdays is 1351` and on `weekends is 547`. Customers orders are higher in weekends compared to weekdays. This is expected as customers find time to relax and order during weekends.\n",
    "* Customers mostly ordered from restaurants `Shake Shack, The Meatball Shop, Blue Ribbon Sushi, Blue Ribbon Fried Chicken , and Parm` indicating they are the most popular among all the restaurants.\n",
    "* Based on the customer orders, irrespective of a weekend or a weekday, `American` is the most popular cuisine followed by `Japanese, Italian, Chinese, and Mexican`.\n",
    "* Customers paid less than `$20` for about `70%` of the total orders placed.\n",
    "* `Thai` and `French` cuisines scored as high cost restaurants and `Korean` and `Vietnamese` cuisines scored as low cost restaurants. Most popular restaurants cost in between.\n",
    "* Customers did not seem to rate based on food preparation time or delivery times but the food quality, restaurant.\n",
    "* Customers rated `1162` orders out of `1898` orders. Shake Shack restaurant leading with 133 ratings count.\n",
    "* There is not much postive or negative correlation between cost of the orders in comparison to food preparation time or food delivery time\n"
   ]
  },
  {
   "cell_type": "markdown",
   "metadata": {
    "id": "PWnsI0i_guWJ"
   },
   "source": [
    "### Recommendations:\n",
    "*  Restaurants other than `American, Japanese, Italian, Chinese, and Mexican` should run `promotions` to attract customers.\n",
    "* Customer `rewards` implementation could help restaurants get more customers. * Restaurants with `non-rated` orders should encourage customers leave a review with email or phone remainders or with incentives (rewards, points, redemption ..etc)\n",
    "* Customers prefer to pay around `$20 `on average per order. Restaurants can `promote combo or addon offers` to `increase customer spending` hence `benefit` from `customer satisfaction and extra revenue`.\n",
    "* Restaurants must `continue to maintain or improve on quality of food` to i`ncrease customer satisfaction`. A simple `feedback system` like '`like or dislike`' apart from 5 star rating would allow a quick turn around for restaurants to take actions."
   ]
  },
  {
   "cell_type": "markdown",
   "metadata": {
    "id": "tSoucKKbg9Hc"
   },
   "source": [
    "---"
   ]
  }
 ],
 "metadata": {
  "colab": {
   "provenance": []
  },
  "kernelspec": {
   "display_name": "Python 3 (ipykernel)",
   "language": "python",
   "name": "python3"
  },
  "language_info": {
   "codemirror_mode": {
    "name": "ipython",
    "version": 3
   },
   "file_extension": ".py",
   "mimetype": "text/x-python",
   "name": "python",
   "nbconvert_exporter": "python",
   "pygments_lexer": "ipython3",
   "version": "3.12.4"
  }
 },
 "nbformat": 4,
 "nbformat_minor": 4
}
